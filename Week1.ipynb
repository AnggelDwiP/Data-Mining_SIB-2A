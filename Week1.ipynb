{
  "nbformat": 4,
  "nbformat_minor": 0,
  "metadata": {
    "colab": {
      "provenance": [],
      "authorship_tag": "ABX9TyMIjPZ1M7AkyMFchwevMsNz",
      "include_colab_link": true
    },
    "kernelspec": {
      "name": "python3",
      "display_name": "Python 3"
    },
    "language_info": {
      "name": "python"
    }
  },
  "cells": [
    {
      "cell_type": "markdown",
      "metadata": {
        "id": "view-in-github",
        "colab_type": "text"
      },
      "source": [
        "<a href=\"https://colab.research.google.com/github/AnggelDwiP/Data-Mining_SIB-2A/blob/main/Week1.ipynb\" target=\"_parent\"><img src=\"https://colab.research.google.com/assets/colab-badge.svg\" alt=\"Open In Colab\"/></a>"
      ]
    },
    {
      "cell_type": "code",
      "execution_count": 4,
      "metadata": {
        "id": "9KMRdFAIZ0x1"
      },
      "outputs": [],
      "source": [
        "from sklearn.datasets import load_iris\n",
        "import numpy as np\n",
        "from sklearn import tree"
      ]
    },
    {
      "cell_type": "code",
      "source": [
        "iris = load_iris()\n",
        "test_index = [0,50,100]"
      ],
      "metadata": {
        "id": "vY7fVOa8fL6L"
      },
      "execution_count": 5,
      "outputs": []
    },
    {
      "cell_type": "code",
      "source": [
        "print(iris.feature_names)\n",
        "print(iris.target_names)\n",
        "print(iris.data[0])\n",
        "print(iris.target[0])\n",
        "for i in range(10):\n",
        "  print(\"sample %d: label %s, features %s\" %(i, iris.target[i], iris.data[i]))"
      ],
      "metadata": {
        "id": "d6BlWnUsfVUT",
        "outputId": "ddf936ac-245b-485b-d876-c554e45d9312",
        "colab": {
          "base_uri": "https://localhost:8080/"
        }
      },
      "execution_count": 6,
      "outputs": [
        {
          "output_type": "stream",
          "name": "stdout",
          "text": [
            "['sepal length (cm)', 'sepal width (cm)', 'petal length (cm)', 'petal width (cm)']\n",
            "['setosa' 'versicolor' 'virginica']\n",
            "[5.1 3.5 1.4 0.2]\n",
            "0\n",
            "sample 0: label 0, features [5.1 3.5 1.4 0.2]\n",
            "sample 1: label 0, features [4.9 3.  1.4 0.2]\n",
            "sample 2: label 0, features [4.7 3.2 1.3 0.2]\n",
            "sample 3: label 0, features [4.6 3.1 1.5 0.2]\n",
            "sample 4: label 0, features [5.  3.6 1.4 0.2]\n",
            "sample 5: label 0, features [5.4 3.9 1.7 0.4]\n",
            "sample 6: label 0, features [4.6 3.4 1.4 0.3]\n",
            "sample 7: label 0, features [5.  3.4 1.5 0.2]\n",
            "sample 8: label 0, features [4.4 2.9 1.4 0.2]\n",
            "sample 9: label 0, features [4.9 3.1 1.5 0.1]\n"
          ]
        }
      ]
    }
  ]
}