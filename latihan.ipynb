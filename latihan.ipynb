{
  "nbformat": 4,
  "nbformat_minor": 0,
  "metadata": {
    "colab": {
      "provenance": [],
      "authorship_tag": "ABX9TyNMppU0dlHpghqN4afbup0M",
      "include_colab_link": true
    },
    "kernelspec": {
      "name": "python3",
      "display_name": "Python 3"
    },
    "language_info": {
      "name": "python"
    }
  },
  "cells": [
    {
      "cell_type": "markdown",
      "metadata": {
        "id": "view-in-github",
        "colab_type": "text"
      },
      "source": [
        "<a href=\"https://colab.research.google.com/github/AnggelDwiP/Data-Mining_SIB-2A/blob/main/latihan.ipynb\" target=\"_parent\"><img src=\"https://colab.research.google.com/assets/colab-badge.svg\" alt=\"Open In Colab\"/></a>"
      ]
    },
    {
      "cell_type": "code",
      "execution_count": 1,
      "metadata": {
        "colab": {
          "base_uri": "https://localhost:8080/"
        },
        "id": "0QY-y5ldIo5o",
        "outputId": "9f92807f-768c-4f17-dce9-acc5941917ed"
      },
      "outputs": [
        {
          "output_type": "stream",
          "name": "stdout",
          "text": [
            "Decision Tree Accuracy: 1.0\n",
            "KNN Accuracy with K=3: 0.8333333333333334\n",
            "KNN Accuracy with K=5: 0.6666666666666666\n",
            "KNN Accuracy with K=7: 0.6666666666666666\n",
            "KNN Accuracy with K=9: 0.6666666666666666\n",
            "KNN Minkowski Accuracy: 0.6666666666666666\n",
            "KNN Euclidean Accuracy: 0.6666666666666666\n"
          ]
        }
      ],
      "source": [
        "import pandas as pd\n",
        "from sklearn.model_selection import train_test_split\n",
        "from sklearn.preprocessing import StandardScaler\n",
        "from sklearn.tree import DecisionTreeClassifier\n",
        "from sklearn.neighbors import KNeighborsClassifier\n",
        "from sklearn.metrics import accuracy_score\n",
        "\n",
        "file_path = '/content/sample_data/Siswa.xlsx'\n",
        "\n",
        "# Load data from Excel file\n",
        "data = pd.read_excel('/content/sample_data/Siswa.xlsx')\n",
        "\n",
        "# Drop rows with all missing values\n",
        "data = data.dropna(how='all')\n",
        "\n",
        "# Rename columns\n",
        "data.columns = ['No', 'Nama Panggilan', 'Hobi', 'TB', 'Jenis Kendaraan', 'BB']\n",
        "\n",
        "\n",
        "# Drop rows with missing values in specific columns\n",
        "data.dropna(subset=['TB', 'BB'], inplace=True)\n",
        "\n",
        "# Define target variable\n",
        "# Replace '-' with NaN in the 'TB' column\n",
        "data['TB'] = data['TB'].replace('-', pd.NA)\n",
        "\n",
        "# Drop rows with missing values in specific columns\n",
        "data.dropna(subset=['TB', 'BB'], inplace=True)\n",
        "\n",
        "# Convert 'TB' column to float\n",
        "data['TB'] = data['TB'].astype(float)\n",
        "\n",
        "# Define target variable\n",
        "data['Target'] = data['TB'].apply(lambda x: 1 if x > data['TB'].median() else 0)\n",
        "\n",
        "# Define features and target variable\n",
        "features = data[['TB', 'BB']]\n",
        "target = data['Target']\n",
        "\n",
        "# Split data into training and testing sets\n",
        "X_train, X_test, y_train, y_test = train_test_split(features, target, test_size=0.3, random_state=42)\n",
        "\n",
        "# Standardize features\n",
        "scaler = StandardScaler()\n",
        "X_train_scaled = scaler.fit_transform(X_train)\n",
        "X_test_scaled = scaler.transform(X_test)\n",
        "\n",
        "# Train Decision Tree classifier\n",
        "dt_model = DecisionTreeClassifier(random_state=42)\n",
        "dt_model.fit(X_train_scaled, y_train)\n",
        "dt_predictions = dt_model.predict(X_test_scaled)\n",
        "dt_accuracy = accuracy_score(y_test, dt_predictions)\n",
        "print(f'Decision Tree Accuracy: {dt_accuracy}')\n",
        "\n",
        "# Train KNN classifiers with different values of k\n",
        "k_values = [3, 5, 7, 9]\n",
        "for k in k_values:\n",
        "    knn_model = KNeighborsClassifier(n_neighbors=k)\n",
        "    knn_model.fit(X_train_scaled, y_train)\n",
        "    knn_predictions = knn_model.predict(X_test_scaled)\n",
        "    knn_accuracy = accuracy_score(y_test, knn_predictions)\n",
        "    print(f'KNN Accuracy with K={k}: {knn_accuracy}')\n",
        "\n",
        "# Train KNN classifier with Minkowski distance\n",
        "knn_minkowski = KNeighborsClassifier(n_neighbors=5, metric='minkowski')\n",
        "knn_minkowski.fit(X_train_scaled, y_train)\n",
        "minkowski_predictions = knn_minkowski.predict(X_test_scaled)\n",
        "minkowski_accuracy = accuracy_score(y_test, minkowski_predictions)\n",
        "print(f'KNN Minkowski Accuracy: {minkowski_accuracy}')\n",
        "\n",
        "# Train KNN classifier with Euclidean distance\n",
        "knn_euclidean = KNeighborsClassifier(n_neighbors=5, metric='euclidean')\n",
        "knn_euclidean.fit(X_train_scaled, y_train)\n",
        "euclidean_predictions = knn_euclidean.predict(X_test_scaled)\n",
        "euclidean_accuracy = accuracy_score(y_test, euclidean_predictions)\n",
        "print(f'KNN Euclidean Accuracy: {euclidean_accuracy}')"
      ]
    }
  ]
}