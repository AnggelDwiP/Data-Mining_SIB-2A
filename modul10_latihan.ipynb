{
  "nbformat": 4,
  "nbformat_minor": 0,
  "metadata": {
    "colab": {
      "provenance": [],
      "authorship_tag": "ABX9TyMBOoydY/ML6PzD2/TiEbwb",
      "include_colab_link": true
    },
    "kernelspec": {
      "name": "python3",
      "display_name": "Python 3"
    },
    "language_info": {
      "name": "python"
    }
  },
  "cells": [
    {
      "cell_type": "markdown",
      "metadata": {
        "id": "view-in-github",
        "colab_type": "text"
      },
      "source": [
        "<a href=\"https://colab.research.google.com/github/AnggelDwiP/Data-Mining_SIB-2A/blob/main/modul10_latihan.ipynb\" target=\"_parent\"><img src=\"https://colab.research.google.com/assets/colab-badge.svg\" alt=\"Open In Colab\"/></a>"
      ]
    },
    {
      "cell_type": "code",
      "execution_count": 1,
      "metadata": {
        "colab": {
          "base_uri": "https://localhost:8080/"
        },
        "id": "EB70YtgHY4bd",
        "outputId": "6213d303-a039-4b84-b464-9f1dd09d138c"
      },
      "outputs": [
        {
          "output_type": "stream",
          "name": "stdout",
          "text": [
            "Collecting spotipy\n",
            "  Downloading spotipy-2.24.0-py3-none-any.whl (30 kB)\n",
            "Collecting redis>=3.5.3 (from spotipy)\n",
            "  Downloading redis-5.0.4-py3-none-any.whl (251 kB)\n",
            "\u001b[2K     \u001b[90m━━━━━━━━━━━━━━━━━━━━━━━━━━━━━━━━━━━━━━━━\u001b[0m \u001b[32m252.0/252.0 kB\u001b[0m \u001b[31m6.4 MB/s\u001b[0m eta \u001b[36m0:00:00\u001b[0m\n",
            "\u001b[?25hRequirement already satisfied: requests>=2.25.0 in /usr/local/lib/python3.10/dist-packages (from spotipy) (2.31.0)\n",
            "Requirement already satisfied: urllib3>=1.26.0 in /usr/local/lib/python3.10/dist-packages (from spotipy) (2.0.7)\n",
            "Requirement already satisfied: async-timeout>=4.0.3 in /usr/local/lib/python3.10/dist-packages (from redis>=3.5.3->spotipy) (4.0.3)\n",
            "Requirement already satisfied: charset-normalizer<4,>=2 in /usr/local/lib/python3.10/dist-packages (from requests>=2.25.0->spotipy) (3.3.2)\n",
            "Requirement already satisfied: idna<4,>=2.5 in /usr/local/lib/python3.10/dist-packages (from requests>=2.25.0->spotipy) (3.7)\n",
            "Requirement already satisfied: certifi>=2017.4.17 in /usr/local/lib/python3.10/dist-packages (from requests>=2.25.0->spotipy) (2024.2.2)\n",
            "Installing collected packages: redis, spotipy\n",
            "Successfully installed redis-5.0.4 spotipy-2.24.0\n"
          ]
        }
      ],
      "source": [
        "!pip install spotipy"
      ]
    },
    {
      "cell_type": "code",
      "source": [
        "import spotipy\n",
        "from spotipy.oauth2 import SpotifyClientCredentials\n",
        "from sklearn.cluster import KMeans\n",
        "import pandas as pd\n",
        "\n",
        "# Inisialisasi koneksi dengan Spotify API\n",
        "client_credentials_manager = SpotifyClientCredentials(client_id='60b9591e4deb48229693dd1b6823ad2d', client_secret='8e12f650eb9e493db669d04403e03668')\n",
        "sp = spotipy.Spotify(client_credentials_manager=client_credentials_manager)\n",
        "\n",
        "# Fungsi untuk mendapatkan track playlist dari Spotify\n",
        "def get_playlist_tracks(username, playlist_id):\n",
        "    results = sp.user_playlist_tracks(username, playlist_id)\n",
        "    tracks = results['items']\n",
        "    while results['next']:\n",
        "        results = sp.next(results)\n",
        "        tracks.extend(results['items'])\n",
        "    return tracks\n",
        "\n",
        "# Fungsi untuk mendapatkan fitur audio dari playlist\n",
        "def get_audio_features(tracks):\n",
        "    ids = [track['track']['id'] for track in tracks]\n",
        "    features = sp.audio_features(ids)\n",
        "    return features\n",
        "\n",
        "# Mengambil Playlist spotify\n",
        "username = '313nczuayx7ba2keb4fq4esd6r6a'\n",
        "playlist_id = '43NJOI9NbrvmDn1FtNU1ZB'\n",
        "tracks = get_playlist_tracks(username, playlist_id)\n",
        "\n",
        "# Mengambil fitur audio untuk lagu-lagu dari playlist\n",
        "features = get_audio_features(tracks)\n",
        "\n",
        "# Ekstrak nama seluruh lagu\n",
        "track_names = [track['track']['name'] for track in tracks]\n",
        "\n",
        "# Membuat DataFrame dari nama lagu dan fitur audio\n",
        "df = pd.DataFrame(features)\n",
        "df['track_name'] = track_names  # tambahkan nama lagu ke DataFrame\n",
        "\n",
        "# Ambil fitur yang dibutuhkan untuk clustering\n",
        "X = df[['acousticness', 'danceability', 'energy', 'instrumentalness', 'loudness', 'speechiness', 'tempo', 'valence']]\n",
        "\n",
        "# Isikan jumlah cluster\n",
        "n_clusters = 5\n",
        "\n",
        "# Buat Model KMeans\n",
        "kmeans = KMeans(n_clusters=n_clusters)\n",
        "\n",
        "# Train model KMeans\n",
        "kmeans.fit(X)\n",
        "\n",
        "# Ambil label cluster\n",
        "labels = kmeans.labels_\n",
        "\n",
        "# tambahkan label cluster ke DataFrame\n",
        "df['cluster'] = labels\n",
        "\n",
        "# Tampilkan lagu untuk tiap cluster\n",
        "for cluster_id in range(n_clusters):\n",
        "    cluster_songs = df[df['cluster'] == cluster_id]['track_name']\n",
        "    print(f'Cluster {cluster_id + 1} Songs:')\n",
        "    print(cluster_songs)\n",
        "    print()"
      ],
      "metadata": {
        "colab": {
          "base_uri": "https://localhost:8080/"
        },
        "id": "SUO73DolbVpJ",
        "outputId": "681815c1-800f-4cfe-8b27-f4bffc11d57f"
      },
      "execution_count": 5,
      "outputs": [
        {
          "output_type": "stream",
          "name": "stdout",
          "text": [
            "Cluster 1 Songs:\n",
            "2              Terminator\n",
            "10                 lowkey\n",
            "13    Here's Your Perfect\n",
            "14          Night Changes\n",
            "16              THE SHADE\n",
            "17               Into You\n",
            "Name: track_name, dtype: object\n",
            "\n",
            "Cluster 2 Songs:\n",
            "5                           End of Beginning\n",
            "6                               Cruel Summer\n",
            "7                                 Wide Awake\n",
            "8                                  As It Was\n",
            "9                                       SNAP\n",
            "22    The Way I Loved You (Taylor’s Version)\n",
            "25                                Backburner\n",
            "Name: track_name, dtype: object\n",
            "\n",
            "Cluster 3 Songs:\n",
            "19    I Wanna Be Yours\n",
            "Name: track_name, dtype: object\n",
            "\n",
            "Cluster 4 Songs:\n",
            "1                                              Daylight\n",
            "4                       I Can Do It With a Broken Heart\n",
            "11                                                 Weak\n",
            "12                                              Running\n",
            "15                                 Just a Friend to You\n",
            "18                                                  Low\n",
            "20    Mr. Perfectly Fine (Taylor’s Version) (From Th...\n",
            "23                                  Am I Bothering You?\n",
            "24                  Back To December (Taylor's Version)\n",
            "26                    Wildest Dreams (Taylor's Version)\n",
            "Name: track_name, dtype: object\n",
            "\n",
            "Cluster 5 Songs:\n",
            "0                     Style\n",
            "3                 Kill Bill\n",
            "21    Take A Chance With Me\n",
            "27                Enchanted\n",
            "Name: track_name, dtype: object\n",
            "\n"
          ]
        },
        {
          "output_type": "stream",
          "name": "stderr",
          "text": [
            "/usr/local/lib/python3.10/dist-packages/sklearn/cluster/_kmeans.py:870: FutureWarning: The default value of `n_init` will change from 10 to 'auto' in 1.4. Set the value of `n_init` explicitly to suppress the warning\n",
            "  warnings.warn(\n"
          ]
        }
      ]
    }
  ]
}