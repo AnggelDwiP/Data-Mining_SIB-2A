{
  "nbformat": 4,
  "nbformat_minor": 0,
  "metadata": {
    "colab": {
      "provenance": [],
      "authorship_tag": "ABX9TyNybxkGyJvEvFsNI9q18Udb",
      "include_colab_link": true
    },
    "kernelspec": {
      "name": "python3",
      "display_name": "Python 3"
    },
    "language_info": {
      "name": "python"
    }
  },
  "cells": [
    {
      "cell_type": "markdown",
      "metadata": {
        "id": "view-in-github",
        "colab_type": "text"
      },
      "source": [
        "<a href=\"https://colab.research.google.com/github/AnggelDwiP/Data-Mining_SIB-2A/blob/main/modul12_latihan2.ipynb\" target=\"_parent\"><img src=\"https://colab.research.google.com/assets/colab-badge.svg\" alt=\"Open In Colab\"/></a>"
      ]
    },
    {
      "cell_type": "markdown",
      "source": [
        "LATIHAN NOMOR 2\n"
      ],
      "metadata": {
        "id": "Aoipdf_7hIVG"
      }
    },
    {
      "cell_type": "code",
      "execution_count": 2,
      "metadata": {
        "colab": {
          "base_uri": "https://localhost:8080/"
        },
        "id": "apYOOKsxgY6w",
        "outputId": "3f5b4179-faf9-4e46-efac-7f2535b10dd3"
      },
      "outputs": [
        {
          "output_type": "stream",
          "name": "stdout",
          "text": [
            "Deskripsi data:\n",
            "           count unique               top freq     mean       std  min  25%  \\\n",
            "Game Name    101    101  Candy Crush Saga    1      NaN       NaN  NaN  NaN   \n",
            "Developer    101     81         Supercell    5      NaN       NaN  NaN  NaN   \n",
            "Genre        101     24          Strategy   17      NaN       NaN  NaN  NaN   \n",
            "Rating     101.0    NaN               NaN  NaN  4.39802  0.175488  4.1  4.3   \n",
            "\n",
            "           50%  75%  max  \n",
            "Game Name  NaN  NaN  NaN  \n",
            "Developer  NaN  NaN  NaN  \n",
            "Genre      NaN  NaN  NaN  \n",
            "Rating     4.4  4.5  4.9  \n",
            "\n",
            "Fitur-fitur yang ada dalam data:\n",
            "Index(['Game Name', 'Developer', 'Genre', 'Rating'], dtype='object')\n",
            "\n",
            "Kolom target dari data: Rating\n"
          ]
        }
      ],
      "source": [
        "import pandas as pd\n",
        "\n",
        "# Load dataset\n",
        "df = pd.read_csv('ratings.csv')  # Sesuaikan dengan nama file yang telah diunduh\n",
        "\n",
        "# a. Deskripsikan data yang didapatkan\n",
        "print(\"Deskripsi data:\")\n",
        "print(df.describe(include='all').transpose())\n",
        "\n",
        "# b. Sebutkan fitur-fitur yang ada dalam data\n",
        "print(\"\\nFitur-fitur yang ada dalam data:\")\n",
        "print(df.columns)\n",
        "\n",
        "# c. Sebutkan kolom mana yang menjadi target dari data\n",
        "# Asumsikan target adalah kolom 'Rating' (sesuaikan dengan nama kolom yang sesuai dalam dataset)\n",
        "target_column = 'Rating'  # Sesuaikan dengan nama kolom yang benar jika berbeda\n",
        "print(f\"\\nKolom target dari data: {target_column}\")"
      ]
    }
  ]
}