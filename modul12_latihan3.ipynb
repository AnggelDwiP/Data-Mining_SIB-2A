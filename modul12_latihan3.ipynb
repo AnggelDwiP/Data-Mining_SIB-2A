{
  "nbformat": 4,
  "nbformat_minor": 0,
  "metadata": {
    "colab": {
      "provenance": [],
      "authorship_tag": "ABX9TyN+L+vTfSx4MvIItKksR7mL",
      "include_colab_link": true
    },
    "kernelspec": {
      "name": "python3",
      "display_name": "Python 3"
    },
    "language_info": {
      "name": "python"
    }
  },
  "cells": [
    {
      "cell_type": "markdown",
      "metadata": {
        "id": "view-in-github",
        "colab_type": "text"
      },
      "source": [
        "<a href=\"https://colab.research.google.com/github/AnggelDwiP/Data-Mining_SIB-2A/blob/main/modul12_latihan3.ipynb\" target=\"_parent\"><img src=\"https://colab.research.google.com/assets/colab-badge.svg\" alt=\"Open In Colab\"/></a>"
      ]
    },
    {
      "cell_type": "code",
      "source": [
        "import numpy as np\n",
        "import pandas as pd\n",
        "from sklearn.model_selection import train_test_split\n",
        "from sklearn.preprocessing import StandardScaler, OneHotEncoder\n",
        "from sklearn.metrics import accuracy_score\n",
        "\n",
        "# Load dataset Titanic\n",
        "url = 'https://raw.githubusercontent.com/datasciencedojo/datasets/master/titanic.csv'\n",
        "data = pd.read_csv(url)\n",
        "\n",
        "# Data Preprocessing\n",
        "# Fill missing values\n",
        "data['Age'].fillna(data['Age'].mean(), inplace=True)\n",
        "data['Embarked'].fillna(data['Embarked'].mode()[0], inplace=True)\n",
        "data['Fare'].fillna(data['Fare'].mean(), inplace=True)\n",
        "\n",
        "# Drop columns that won't be used\n",
        "data.drop(['Name', 'Ticket', 'Cabin', 'PassengerId'], axis=1, inplace=True)\n",
        "\n",
        "# Convert categorical columns to numerical values\n",
        "data = pd.get_dummies(data, columns=['Sex', 'Embarked'], drop_first=True)\n",
        "\n",
        "# Separate features and labels\n",
        "X = data.drop('Survived', axis=1)\n",
        "y = data['Survived']\n",
        "\n",
        "# Standardize features\n",
        "scaler = StandardScaler()\n",
        "X = scaler.fit_transform(X)\n",
        "\n",
        "# One-hot encode labels\n",
        "encoder = OneHotEncoder(sparse=False)\n",
        "y = encoder.fit_transform(y.values.reshape(-1, 1))\n",
        "\n",
        "# Split data into training and testing sets\n",
        "X_train, X_test, y_train, y_test = train_test_split(X, y, test_size=0.2, random_state=42)\n",
        "\n",
        "# Define activation functions\n",
        "def sigmoid(x):\n",
        "    return 1 / (1 + np.exp(-x))\n",
        "\n",
        "def relu(x):\n",
        "    return np.maximum(0, x)\n",
        "\n",
        "def sigmoid_derivative(x):\n",
        "    return x * (1 - x)\n",
        "\n",
        "def relu_derivative(x):\n",
        "    return np.where(x > 0, 1, 0)\n",
        "\n",
        "# Neural Network Parameters\n",
        "input_layer_neurons = X_train.shape[1]\n",
        "output_layer_neurons = y_train.shape[1]\n",
        "\n",
        "# Hyperparameters\n",
        "learning_rate = 0.01\n",
        "epochs = 5000\n",
        "\n",
        "# Function to train and evaluate the model\n",
        "def train_and_evaluate(hidden_layer_neurons, activation, activation_derivative):\n",
        "    # Initialize weights and biases\n",
        "    np.random.seed(42)\n",
        "    weights_input_hidden = np.random.uniform(size=(input_layer_neurons, hidden_layer_neurons))\n",
        "    weights_hidden_output = np.random.uniform(size=(hidden_layer_neurons, output_layer_neurons))\n",
        "    bias_hidden = np.random.uniform(size=(1, hidden_layer_neurons))\n",
        "    bias_output = np.random.uniform(size=(1, output_layer_neurons))\n",
        "\n",
        "    # Training the neural network\n",
        "    for epoch in range(epochs):\n",
        "        # Forward propagation\n",
        "        hidden_layer_input = np.dot(X_train, weights_input_hidden) + bias_hidden\n",
        "        hidden_layer_output = activation(hidden_layer_input)\n",
        "        output_layer_input = np.dot(hidden_layer_output, weights_hidden_output) + bias_output\n",
        "        predicted_output = sigmoid(output_layer_input)\n",
        "\n",
        "        # Backpropagation\n",
        "        error = y_train - predicted_output\n",
        "        d_predicted_output = error * sigmoid_derivative(predicted_output)\n",
        "        error_hidden_layer = d_predicted_output.dot(weights_hidden_output.T)\n",
        "        d_hidden_layer = error_hidden_layer * activation_derivative(hidden_layer_output)\n",
        "\n",
        "        # Update weights and biases\n",
        "        weights_hidden_output += hidden_layer_output.T.dot(d_predicted_output) * learning_rate\n",
        "        bias_output += np.sum(d_predicted_output, axis=0, keepdims=True) * learning_rate\n",
        "        weights_input_hidden += X_train.T.dot(d_hidden_layer) * learning_rate\n",
        "        bias_hidden += np.sum(d_hidden_layer, axis=0, keepdims=True) * learning_rate\n",
        "\n",
        "    # Prediction on test data\n",
        "    hidden_layer_input = np.dot(X_test, weights_input_hidden) + bias_hidden\n",
        "    hidden_layer_output = activation(hidden_layer_input)\n",
        "    output_layer_input = np.dot(hidden_layer_output, weights_hidden_output) + bias_output\n",
        "    predicted_output = sigmoid(output_layer_input)\n",
        "\n",
        "    # Evaluate the model\n",
        "    y_test_labels = np.argmax(y_test, axis=1)\n",
        "    predicted_labels = np.argmax(predicted_output, axis=1)\n",
        "    accuracy = accuracy_score(y_test_labels, predicted_labels)\n",
        "\n",
        "    return accuracy\n",
        "\n",
        "# Test different combinations of hidden layer sizes and activation functions\n",
        "hidden_layer_sizes = [5, 10, 15]\n",
        "activation_functions = [(relu, relu_derivative), (sigmoid, sigmoid_derivative)]\n",
        "\n",
        "results = []\n",
        "\n",
        "for hidden_layer_neurons in hidden_layer_sizes:\n",
        "    for activation, activation_derivative in activation_functions:\n",
        "        accuracy = train_and_evaluate(hidden_layer_neurons, activation, activation_derivative)\n",
        "        results.append((hidden_layer_neurons, activation.__name__, accuracy))\n",
        "\n",
        "# Print results\n",
        "for hidden_layer_neurons, activation_name, accuracy in results:\n",
        "    print(f'Hidden Layer Neurons: {hidden_layer_neurons}, Activation: {activation_name}, Accuracy: {accuracy * 100:.2f}%')\n"
      ],
      "metadata": {
        "colab": {
          "base_uri": "https://localhost:8080/"
        },
        "id": "dm7mxQ4sVmJc",
        "outputId": "051626d5-38d1-4692-8f77-4372ee15d301"
      },
      "execution_count": 16,
      "outputs": [
        {
          "output_type": "stream",
          "name": "stderr",
          "text": [
            "/usr/local/lib/python3.10/dist-packages/sklearn/preprocessing/_encoders.py:868: FutureWarning: `sparse` was renamed to `sparse_output` in version 1.2 and will be removed in 1.4. `sparse_output` is ignored unless you leave `sparse` to its default value.\n",
            "  warnings.warn(\n"
          ]
        },
        {
          "output_type": "stream",
          "name": "stdout",
          "text": [
            "Hidden Layer Neurons: 5, Activation: relu, Accuracy: 82.68%\n",
            "Hidden Layer Neurons: 5, Activation: sigmoid, Accuracy: 81.01%\n",
            "Hidden Layer Neurons: 10, Activation: relu, Accuracy: 80.45%\n",
            "Hidden Layer Neurons: 10, Activation: sigmoid, Accuracy: 83.24%\n",
            "Hidden Layer Neurons: 15, Activation: relu, Accuracy: 84.92%\n",
            "Hidden Layer Neurons: 15, Activation: sigmoid, Accuracy: 83.24%\n"
          ]
        }
      ]
    }
  ]
}