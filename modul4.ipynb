{
  "nbformat": 4,
  "nbformat_minor": 0,
  "metadata": {
    "colab": {
      "provenance": [],
      "authorship_tag": "ABX9TyM8uUrJ6yDSksdFFku7D6hJ",
      "include_colab_link": true
    },
    "kernelspec": {
      "name": "python3",
      "display_name": "Python 3"
    },
    "language_info": {
      "name": "python"
    }
  },
  "cells": [
    {
      "cell_type": "markdown",
      "metadata": {
        "id": "view-in-github",
        "colab_type": "text"
      },
      "source": [
        "<a href=\"https://colab.research.google.com/github/AnggelDwiP/Data-Mining_SIB-2A/blob/main/modul4.ipynb\" target=\"_parent\"><img src=\"https://colab.research.google.com/assets/colab-badge.svg\" alt=\"Open In Colab\"/></a>"
      ]
    },
    {
      "cell_type": "code",
      "source": [
        "# Importing\n",
        "import sklearn\n",
        "from sklearn.datasets import load_diabetes\n",
        "import pandas as pd\n",
        "import matplotlib.pyplot as plt"
      ],
      "metadata": {
        "id": "hsVHhR_wBSOP"
      },
      "execution_count": 1,
      "outputs": []
    },
    {
      "cell_type": "code",
      "execution_count": 2,
      "metadata": {
        "id": "EdCY0ziwlPBl"
      },
      "outputs": [],
      "source": [
        "# Load the dataset\n",
        "diabetics = load_diabetes()"
      ]
    },
    {
      "cell_type": "code",
      "source": [
        "# Create the dataframe\n",
        "column_name = diabetics.feature_names\n",
        "df_diabetics = pd.DataFrame(diabetics.data)\n",
        "df_diabetics.columns = column_name\n",
        "print(df_diabetics.head())"
      ],
      "metadata": {
        "id": "V_jE64ljBn-R",
        "outputId": "cad80d0e-b2c1-4f7f-8523-9af8874dc5dd",
        "colab": {
          "base_uri": "https://localhost:8080/"
        }
      },
      "execution_count": 3,
      "outputs": [
        {
          "output_type": "stream",
          "name": "stdout",
          "text": [
            "        age       sex       bmi        bp        s1        s2        s3  \\\n",
            "0  0.038076  0.050680  0.061696  0.021872 -0.044223 -0.034821 -0.043401   \n",
            "1 -0.001882 -0.044642 -0.051474 -0.026328 -0.008449 -0.019163  0.074412   \n",
            "2  0.085299  0.050680  0.044451 -0.005670 -0.045599 -0.034194 -0.032356   \n",
            "3 -0.089063 -0.044642 -0.011595 -0.036656  0.012191  0.024991 -0.036038   \n",
            "4  0.005383 -0.044642 -0.036385  0.021872  0.003935  0.015596  0.008142   \n",
            "\n",
            "         s4        s5        s6  \n",
            "0 -0.002592  0.019907 -0.017646  \n",
            "1 -0.039493 -0.068332 -0.092204  \n",
            "2 -0.002592  0.002861 -0.025930  \n",
            "3  0.034309  0.022688 -0.009362  \n",
            "4 -0.002592 -0.031988 -0.046641  \n"
          ]
        }
      ]
    },
    {
      "cell_type": "code",
      "source": [
        "from scipy import stats\n",
        "import numpy as np\n",
        "z = np.abs(stats.zscore(df_diabetics['age']))\n",
        "print(z)"
      ],
      "metadata": {
        "id": "t6tHwC3fDZAi",
        "outputId": "a3ae517e-04de-4d0c-ae75-0b15328c9c4e",
        "colab": {
          "base_uri": "https://localhost:8080/"
        }
      },
      "execution_count": 4,
      "outputs": [
        {
          "output_type": "stream",
          "name": "stdout",
          "text": [
            "0      0.800500\n",
            "1      0.039567\n",
            "2      1.793307\n",
            "3      1.872441\n",
            "4      0.113172\n",
            "         ...   \n",
            "437    0.876870\n",
            "438    0.115937\n",
            "439    0.876870\n",
            "440    0.956004\n",
            "441    0.956004\n",
            "Name: age, Length: 442, dtype: float64\n"
          ]
        }
      ]
    },
    {
      "cell_type": "code",
      "source": [
        "import numpy as np\n",
        "\n",
        "threshold_z = 2\n",
        "\n",
        "outlier_indices = np.where(z > threshold_z)[0]\n",
        "no_outliers = df_diabetics.drop(outlier_indices)\n",
        "print(\"Original DataFrame Shape:\", df_diabetics.shape)\n",
        "print(\"DataFrame Shape after Removing Outliers:\", no_outliers.shape)"
      ],
      "metadata": {
        "id": "h78-GwKiD1rk",
        "outputId": "d2f1e32a-3bfb-42da-dd4d-84dc25a27976",
        "colab": {
          "base_uri": "https://localhost:8080/"
        }
      },
      "execution_count": 5,
      "outputs": [
        {
          "output_type": "stream",
          "name": "stdout",
          "text": [
            "Original DataFrame Shape: (442, 10)\n",
            "DataFrame Shape after Removing Outliers: (426, 10)\n"
          ]
        }
      ]
    },
    {
      "cell_type": "code",
      "source": [],
      "metadata": {
        "id": "bxbaMrwtDzjB"
      },
      "execution_count": null,
      "outputs": []
    }
  ]
}